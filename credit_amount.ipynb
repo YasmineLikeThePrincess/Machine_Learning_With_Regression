{
 "cells": [
  {
   "cell_type": "markdown",
   "id": "60fe0fd1-dc63-4715-9201-43c00622fdcb",
   "metadata": {},
   "source": [
    "Yassine Ramy - \n",
    "Hoda Dades - \n",
    "Yasmine Ferdjani "
   ]
  },
  {
   "cell_type": "markdown",
   "id": "c0e7ffbb-0a9d-43a5-b36d-97927905afa7",
   "metadata": {},
   "source": [
    "# Introduction"
   ]
  },
  {
   "cell_type": "markdown",
   "id": "7e72d70b-36b0-48af-aa94-0861b55a903a",
   "metadata": {},
   "source": [
    "The original dataset contains 1000 entries with 20 categorial/symbolic attributes prepared by Prof. Hofmann. In this dataset, each entry represents a person who takes a credit by a bank. Each person is classified as good or bad credit risks according to the set of attributes.  \n",
    "It is almost impossible to understand the original dataset due to its complicated system of categories and symbols. Thus, I wrote a small Python script to convert it into a readable CSV file.   \n",
    "\n",
    "Several columns are simply ignored, because in my opinion either they are not important or their descriptions are obscure. The selected attributes are:  \n",
    "\n",
    "Age (numeric)  \n",
    "Sex (text: male, female)  \n",
    "Job (numeric: 0 - unskilled and non-resident, 1 - unskilled and resident, 2 - skilled, 3 - highly skilled)  \n",
    "Housing (text: own, rent, or free)  \n",
    "Saving accounts (text - little, moderate, quite rich, rich)  \n",
    "Checking account (numeric, in DM - Deutsch Mark)  \n",
    "Credit amount (numeric, in DM)  \n",
    "Duration (numeric, in month)  \n",
    "Purpose(text: car, furniture/equipment, radio/TV, domestic appliances, repairs, education, business, vacation/others  \n",
    "Risk (Value target - Good or Bad Risk)  "
   ]
  },
  {
   "cell_type": "markdown",
   "id": "ee02a40b-3d24-484e-9f7e-edaff34591ee",
   "metadata": {},
   "source": [
    "We want to study a regression in thi data, so first let's discover the file. "
   ]
  },
  {
   "cell_type": "markdown",
   "id": "70bf1b1f-f004-4b82-a6b9-4c114e92c7a4",
   "metadata": {},
   "source": [
    "# Set Up"
   ]
  },
  {
   "cell_type": "code",
   "execution_count": 1,
   "id": "849eda10-6656-45db-aaf0-e0dcf9e3e461",
   "metadata": {
    "scrolled": true
   },
   "outputs": [
    {
     "name": "stdout",
     "output_type": "stream",
     "text": [
      "Collecting pandas\n",
      "  Using cached pandas-2.2.3-cp313-cp313-macosx_11_0_arm64.whl.metadata (89 kB)\n",
      "Collecting numpy>=1.26.0 (from pandas)\n",
      "  Using cached numpy-2.1.2-cp313-cp313-macosx_14_0_arm64.whl.metadata (60 kB)\n",
      "Requirement already satisfied: python-dateutil>=2.8.2 in ./.venv/lib/python3.13/site-packages (from pandas) (2.9.0.post0)\n",
      "Collecting pytz>=2020.1 (from pandas)\n",
      "  Using cached pytz-2024.2-py2.py3-none-any.whl.metadata (22 kB)\n",
      "Collecting tzdata>=2022.7 (from pandas)\n",
      "  Using cached tzdata-2024.2-py2.py3-none-any.whl.metadata (1.4 kB)\n",
      "Requirement already satisfied: six>=1.5 in ./.venv/lib/python3.13/site-packages (from python-dateutil>=2.8.2->pandas) (1.16.0)\n",
      "Using cached pandas-2.2.3-cp313-cp313-macosx_11_0_arm64.whl (11.3 MB)\n",
      "Using cached numpy-2.1.2-cp313-cp313-macosx_14_0_arm64.whl (5.1 MB)\n",
      "Using cached pytz-2024.2-py2.py3-none-any.whl (508 kB)\n",
      "Using cached tzdata-2024.2-py2.py3-none-any.whl (346 kB)\n",
      "Installing collected packages: pytz, tzdata, numpy, pandas\n",
      "Successfully installed numpy-2.1.2 pandas-2.2.3 pytz-2024.2 tzdata-2024.2\n",
      "\n",
      "\u001b[1m[\u001b[0m\u001b[34;49mnotice\u001b[0m\u001b[1;39;49m]\u001b[0m\u001b[39;49m A new release of pip is available: \u001b[0m\u001b[31;49m24.2\u001b[0m\u001b[39;49m -> \u001b[0m\u001b[32;49m24.3.1\u001b[0m\n",
      "\u001b[1m[\u001b[0m\u001b[34;49mnotice\u001b[0m\u001b[1;39;49m]\u001b[0m\u001b[39;49m To update, run: \u001b[0m\u001b[32;49mpip install --upgrade pip\u001b[0m\n",
      "Note: you may need to restart the kernel to use updated packages.\n"
     ]
    }
   ],
   "source": [
    "pip install pandas"
   ]
  },
  {
   "cell_type": "code",
   "execution_count": 15,
   "id": "30c74aa0-fa70-497c-9d2f-982e07d7616c",
   "metadata": {
    "scrolled": true
   },
   "outputs": [
    {
     "name": "stdout",
     "output_type": "stream",
     "text": [
      "Collecting matplotlib\n",
      "  Using cached matplotlib-3.9.2-cp313-cp313-macosx_11_0_arm64.whl.metadata (11 kB)\n",
      "Collecting contourpy>=1.0.1 (from matplotlib)\n",
      "  Using cached contourpy-1.3.0-cp313-cp313-macosx_11_0_arm64.whl.metadata (5.4 kB)\n",
      "Collecting cycler>=0.10 (from matplotlib)\n",
      "  Using cached cycler-0.12.1-py3-none-any.whl.metadata (3.8 kB)\n",
      "Collecting fonttools>=4.22.0 (from matplotlib)\n",
      "  Using cached fonttools-4.54.1-cp313-cp313-macosx_11_0_arm64.whl.metadata (163 kB)\n",
      "Collecting kiwisolver>=1.3.1 (from matplotlib)\n",
      "  Using cached kiwisolver-1.4.7-cp313-cp313-macosx_11_0_arm64.whl.metadata (6.3 kB)\n",
      "Requirement already satisfied: numpy>=1.23 in ./.venv/lib/python3.13/site-packages (from matplotlib) (2.1.2)\n",
      "Requirement already satisfied: packaging>=20.0 in ./.venv/lib/python3.13/site-packages (from matplotlib) (24.1)\n",
      "Collecting pillow>=8 (from matplotlib)\n",
      "  Using cached pillow-11.0.0-cp313-cp313-macosx_11_0_arm64.whl.metadata (9.1 kB)\n",
      "Collecting pyparsing>=2.3.1 (from matplotlib)\n",
      "  Using cached pyparsing-3.2.0-py3-none-any.whl.metadata (5.0 kB)\n",
      "Requirement already satisfied: python-dateutil>=2.7 in ./.venv/lib/python3.13/site-packages (from matplotlib) (2.9.0.post0)\n",
      "Requirement already satisfied: six>=1.5 in ./.venv/lib/python3.13/site-packages (from python-dateutil>=2.7->matplotlib) (1.16.0)\n",
      "Using cached matplotlib-3.9.2-cp313-cp313-macosx_11_0_arm64.whl (7.8 MB)\n",
      "Using cached contourpy-1.3.0-cp313-cp313-macosx_11_0_arm64.whl (251 kB)\n",
      "Using cached cycler-0.12.1-py3-none-any.whl (8.3 kB)\n",
      "Using cached fonttools-4.54.1-cp313-cp313-macosx_11_0_arm64.whl (2.2 MB)\n",
      "Using cached kiwisolver-1.4.7-cp313-cp313-macosx_11_0_arm64.whl (63 kB)\n",
      "Using cached pillow-11.0.0-cp313-cp313-macosx_11_0_arm64.whl (3.0 MB)\n",
      "Using cached pyparsing-3.2.0-py3-none-any.whl (106 kB)\n",
      "Installing collected packages: pyparsing, pillow, kiwisolver, fonttools, cycler, contourpy, matplotlib\n",
      "Successfully installed contourpy-1.3.0 cycler-0.12.1 fonttools-4.54.1 kiwisolver-1.4.7 matplotlib-3.9.2 pillow-11.0.0 pyparsing-3.2.0\n",
      "\n",
      "\u001b[1m[\u001b[0m\u001b[34;49mnotice\u001b[0m\u001b[1;39;49m]\u001b[0m\u001b[39;49m A new release of pip is available: \u001b[0m\u001b[31;49m24.2\u001b[0m\u001b[39;49m -> \u001b[0m\u001b[32;49m24.3.1\u001b[0m\n",
      "\u001b[1m[\u001b[0m\u001b[34;49mnotice\u001b[0m\u001b[1;39;49m]\u001b[0m\u001b[39;49m To update, run: \u001b[0m\u001b[32;49mpip install --upgrade pip\u001b[0m\n",
      "Note: you may need to restart the kernel to use updated packages.\n"
     ]
    }
   ],
   "source": [
    "pip install matplotlib"
   ]
  },
  {
   "cell_type": "code",
   "execution_count": 22,
   "id": "9f9e2428-104d-4112-b4e1-963115c6de02",
   "metadata": {},
   "outputs": [
    {
     "name": "stdout",
     "output_type": "stream",
     "text": [
      "Collecting scipy\n",
      "  Using cached scipy-1.14.1-cp313-cp313-macosx_14_0_arm64.whl.metadata (60 kB)\n",
      "Requirement already satisfied: numpy<2.3,>=1.23.5 in ./.venv/lib/python3.13/site-packages (from scipy) (2.1.2)\n",
      "Using cached scipy-1.14.1-cp313-cp313-macosx_14_0_arm64.whl (23.1 MB)\n",
      "Installing collected packages: scipy\n",
      "Successfully installed scipy-1.14.1\n",
      "\n",
      "\u001b[1m[\u001b[0m\u001b[34;49mnotice\u001b[0m\u001b[1;39;49m]\u001b[0m\u001b[39;49m A new release of pip is available: \u001b[0m\u001b[31;49m24.2\u001b[0m\u001b[39;49m -> \u001b[0m\u001b[32;49m24.3.1\u001b[0m\n",
      "\u001b[1m[\u001b[0m\u001b[34;49mnotice\u001b[0m\u001b[1;39;49m]\u001b[0m\u001b[39;49m To update, run: \u001b[0m\u001b[32;49mpip install --upgrade pip\u001b[0m\n",
      "Note: you may need to restart the kernel to use updated packages.\n"
     ]
    }
   ],
   "source": [
    "pip install scipy"
   ]
  },
  {
   "cell_type": "markdown",
   "id": "34599e84-80f9-4e8d-9818-09ce56edb9f1",
   "metadata": {},
   "source": [
    "# Discovery the dataset"
   ]
  },
  {
   "cell_type": "code",
   "execution_count": 56,
   "id": "3a5b3891-8106-46b3-a5bd-5888e91f5372",
   "metadata": {},
   "outputs": [],
   "source": [
    "import pandas as pd "
   ]
  },
  {
   "cell_type": "code",
   "execution_count": 57,
   "id": "941bbcad-2aea-47f0-aed5-c5989085d929",
   "metadata": {},
   "outputs": [],
   "source": [
    "df = pd.read_csv('german_credit_data.csv', index_col = 0)"
   ]
  },
  {
   "cell_type": "code",
   "execution_count": 58,
   "id": "5816fb09-8ed7-4542-be5e-f39e96b74977",
   "metadata": {},
   "outputs": [
    {
     "data": {
      "text/html": [
       "<div>\n",
       "<style scoped>\n",
       "    .dataframe tbody tr th:only-of-type {\n",
       "        vertical-align: middle;\n",
       "    }\n",
       "\n",
       "    .dataframe tbody tr th {\n",
       "        vertical-align: top;\n",
       "    }\n",
       "\n",
       "    .dataframe thead th {\n",
       "        text-align: right;\n",
       "    }\n",
       "</style>\n",
       "<table border=\"1\" class=\"dataframe\">\n",
       "  <thead>\n",
       "    <tr style=\"text-align: right;\">\n",
       "      <th></th>\n",
       "      <th>Age</th>\n",
       "      <th>Sex</th>\n",
       "      <th>Job</th>\n",
       "      <th>Housing</th>\n",
       "      <th>Saving accounts</th>\n",
       "      <th>Checking account</th>\n",
       "      <th>Credit amount</th>\n",
       "      <th>Duration</th>\n",
       "      <th>Purpose</th>\n",
       "      <th>Risk</th>\n",
       "    </tr>\n",
       "  </thead>\n",
       "  <tbody>\n",
       "    <tr>\n",
       "      <th>0</th>\n",
       "      <td>67</td>\n",
       "      <td>male</td>\n",
       "      <td>2</td>\n",
       "      <td>own</td>\n",
       "      <td>NaN</td>\n",
       "      <td>little</td>\n",
       "      <td>1169</td>\n",
       "      <td>6</td>\n",
       "      <td>radio/TV</td>\n",
       "      <td>good</td>\n",
       "    </tr>\n",
       "    <tr>\n",
       "      <th>1</th>\n",
       "      <td>22</td>\n",
       "      <td>female</td>\n",
       "      <td>2</td>\n",
       "      <td>own</td>\n",
       "      <td>little</td>\n",
       "      <td>moderate</td>\n",
       "      <td>5951</td>\n",
       "      <td>48</td>\n",
       "      <td>radio/TV</td>\n",
       "      <td>bad</td>\n",
       "    </tr>\n",
       "    <tr>\n",
       "      <th>2</th>\n",
       "      <td>49</td>\n",
       "      <td>male</td>\n",
       "      <td>1</td>\n",
       "      <td>own</td>\n",
       "      <td>little</td>\n",
       "      <td>NaN</td>\n",
       "      <td>2096</td>\n",
       "      <td>12</td>\n",
       "      <td>education</td>\n",
       "      <td>good</td>\n",
       "    </tr>\n",
       "    <tr>\n",
       "      <th>3</th>\n",
       "      <td>45</td>\n",
       "      <td>male</td>\n",
       "      <td>2</td>\n",
       "      <td>free</td>\n",
       "      <td>little</td>\n",
       "      <td>little</td>\n",
       "      <td>7882</td>\n",
       "      <td>42</td>\n",
       "      <td>furniture/equipment</td>\n",
       "      <td>good</td>\n",
       "    </tr>\n",
       "    <tr>\n",
       "      <th>4</th>\n",
       "      <td>53</td>\n",
       "      <td>male</td>\n",
       "      <td>2</td>\n",
       "      <td>free</td>\n",
       "      <td>little</td>\n",
       "      <td>little</td>\n",
       "      <td>4870</td>\n",
       "      <td>24</td>\n",
       "      <td>car</td>\n",
       "      <td>bad</td>\n",
       "    </tr>\n",
       "    <tr>\n",
       "      <th>...</th>\n",
       "      <td>...</td>\n",
       "      <td>...</td>\n",
       "      <td>...</td>\n",
       "      <td>...</td>\n",
       "      <td>...</td>\n",
       "      <td>...</td>\n",
       "      <td>...</td>\n",
       "      <td>...</td>\n",
       "      <td>...</td>\n",
       "      <td>...</td>\n",
       "    </tr>\n",
       "    <tr>\n",
       "      <th>995</th>\n",
       "      <td>31</td>\n",
       "      <td>female</td>\n",
       "      <td>1</td>\n",
       "      <td>own</td>\n",
       "      <td>little</td>\n",
       "      <td>NaN</td>\n",
       "      <td>1736</td>\n",
       "      <td>12</td>\n",
       "      <td>furniture/equipment</td>\n",
       "      <td>good</td>\n",
       "    </tr>\n",
       "    <tr>\n",
       "      <th>996</th>\n",
       "      <td>40</td>\n",
       "      <td>male</td>\n",
       "      <td>3</td>\n",
       "      <td>own</td>\n",
       "      <td>little</td>\n",
       "      <td>little</td>\n",
       "      <td>3857</td>\n",
       "      <td>30</td>\n",
       "      <td>car</td>\n",
       "      <td>good</td>\n",
       "    </tr>\n",
       "    <tr>\n",
       "      <th>997</th>\n",
       "      <td>38</td>\n",
       "      <td>male</td>\n",
       "      <td>2</td>\n",
       "      <td>own</td>\n",
       "      <td>little</td>\n",
       "      <td>NaN</td>\n",
       "      <td>804</td>\n",
       "      <td>12</td>\n",
       "      <td>radio/TV</td>\n",
       "      <td>good</td>\n",
       "    </tr>\n",
       "    <tr>\n",
       "      <th>998</th>\n",
       "      <td>23</td>\n",
       "      <td>male</td>\n",
       "      <td>2</td>\n",
       "      <td>free</td>\n",
       "      <td>little</td>\n",
       "      <td>little</td>\n",
       "      <td>1845</td>\n",
       "      <td>45</td>\n",
       "      <td>radio/TV</td>\n",
       "      <td>bad</td>\n",
       "    </tr>\n",
       "    <tr>\n",
       "      <th>999</th>\n",
       "      <td>27</td>\n",
       "      <td>male</td>\n",
       "      <td>2</td>\n",
       "      <td>own</td>\n",
       "      <td>moderate</td>\n",
       "      <td>moderate</td>\n",
       "      <td>4576</td>\n",
       "      <td>45</td>\n",
       "      <td>car</td>\n",
       "      <td>good</td>\n",
       "    </tr>\n",
       "  </tbody>\n",
       "</table>\n",
       "<p>1000 rows × 10 columns</p>\n",
       "</div>"
      ],
      "text/plain": [
       "     Age     Sex  Job Housing Saving accounts Checking account  Credit amount  \\\n",
       "0     67    male    2     own             NaN           little           1169   \n",
       "1     22  female    2     own          little         moderate           5951   \n",
       "2     49    male    1     own          little              NaN           2096   \n",
       "3     45    male    2    free          little           little           7882   \n",
       "4     53    male    2    free          little           little           4870   \n",
       "..   ...     ...  ...     ...             ...              ...            ...   \n",
       "995   31  female    1     own          little              NaN           1736   \n",
       "996   40    male    3     own          little           little           3857   \n",
       "997   38    male    2     own          little              NaN            804   \n",
       "998   23    male    2    free          little           little           1845   \n",
       "999   27    male    2     own        moderate         moderate           4576   \n",
       "\n",
       "     Duration              Purpose  Risk  \n",
       "0           6             radio/TV  good  \n",
       "1          48             radio/TV   bad  \n",
       "2          12            education  good  \n",
       "3          42  furniture/equipment  good  \n",
       "4          24                  car   bad  \n",
       "..        ...                  ...   ...  \n",
       "995        12  furniture/equipment  good  \n",
       "996        30                  car  good  \n",
       "997        12             radio/TV  good  \n",
       "998        45             radio/TV   bad  \n",
       "999        45                  car  good  \n",
       "\n",
       "[1000 rows x 10 columns]"
      ]
     },
     "execution_count": 58,
     "metadata": {},
     "output_type": "execute_result"
    }
   ],
   "source": [
    "df"
   ]
  },
  {
   "cell_type": "code",
   "execution_count": 59,
   "id": "c1946237-fdcf-4459-83d5-a01c3c0461d0",
   "metadata": {},
   "outputs": [
    {
     "data": {
      "text/html": [
       "<div>\n",
       "<style scoped>\n",
       "    .dataframe tbody tr th:only-of-type {\n",
       "        vertical-align: middle;\n",
       "    }\n",
       "\n",
       "    .dataframe tbody tr th {\n",
       "        vertical-align: top;\n",
       "    }\n",
       "\n",
       "    .dataframe thead th {\n",
       "        text-align: right;\n",
       "    }\n",
       "</style>\n",
       "<table border=\"1\" class=\"dataframe\">\n",
       "  <thead>\n",
       "    <tr style=\"text-align: right;\">\n",
       "      <th></th>\n",
       "      <th>Age</th>\n",
       "      <th>Job</th>\n",
       "      <th>Credit amount</th>\n",
       "      <th>Duration</th>\n",
       "    </tr>\n",
       "  </thead>\n",
       "  <tbody>\n",
       "    <tr>\n",
       "      <th>0</th>\n",
       "      <td>67</td>\n",
       "      <td>2</td>\n",
       "      <td>1169</td>\n",
       "      <td>6</td>\n",
       "    </tr>\n",
       "    <tr>\n",
       "      <th>1</th>\n",
       "      <td>22</td>\n",
       "      <td>2</td>\n",
       "      <td>5951</td>\n",
       "      <td>48</td>\n",
       "    </tr>\n",
       "    <tr>\n",
       "      <th>2</th>\n",
       "      <td>49</td>\n",
       "      <td>1</td>\n",
       "      <td>2096</td>\n",
       "      <td>12</td>\n",
       "    </tr>\n",
       "    <tr>\n",
       "      <th>3</th>\n",
       "      <td>45</td>\n",
       "      <td>2</td>\n",
       "      <td>7882</td>\n",
       "      <td>42</td>\n",
       "    </tr>\n",
       "    <tr>\n",
       "      <th>4</th>\n",
       "      <td>53</td>\n",
       "      <td>2</td>\n",
       "      <td>4870</td>\n",
       "      <td>24</td>\n",
       "    </tr>\n",
       "    <tr>\n",
       "      <th>...</th>\n",
       "      <td>...</td>\n",
       "      <td>...</td>\n",
       "      <td>...</td>\n",
       "      <td>...</td>\n",
       "    </tr>\n",
       "    <tr>\n",
       "      <th>995</th>\n",
       "      <td>31</td>\n",
       "      <td>1</td>\n",
       "      <td>1736</td>\n",
       "      <td>12</td>\n",
       "    </tr>\n",
       "    <tr>\n",
       "      <th>996</th>\n",
       "      <td>40</td>\n",
       "      <td>3</td>\n",
       "      <td>3857</td>\n",
       "      <td>30</td>\n",
       "    </tr>\n",
       "    <tr>\n",
       "      <th>997</th>\n",
       "      <td>38</td>\n",
       "      <td>2</td>\n",
       "      <td>804</td>\n",
       "      <td>12</td>\n",
       "    </tr>\n",
       "    <tr>\n",
       "      <th>998</th>\n",
       "      <td>23</td>\n",
       "      <td>2</td>\n",
       "      <td>1845</td>\n",
       "      <td>45</td>\n",
       "    </tr>\n",
       "    <tr>\n",
       "      <th>999</th>\n",
       "      <td>27</td>\n",
       "      <td>2</td>\n",
       "      <td>4576</td>\n",
       "      <td>45</td>\n",
       "    </tr>\n",
       "  </tbody>\n",
       "</table>\n",
       "<p>1000 rows × 4 columns</p>\n",
       "</div>"
      ],
      "text/plain": [
       "     Age  Job  Credit amount  Duration\n",
       "0     67    2           1169         6\n",
       "1     22    2           5951        48\n",
       "2     49    1           2096        12\n",
       "3     45    2           7882        42\n",
       "4     53    2           4870        24\n",
       "..   ...  ...            ...       ...\n",
       "995   31    1           1736        12\n",
       "996   40    3           3857        30\n",
       "997   38    2            804        12\n",
       "998   23    2           1845        45\n",
       "999   27    2           4576        45\n",
       "\n",
       "[1000 rows x 4 columns]"
      ]
     },
     "execution_count": 59,
     "metadata": {},
     "output_type": "execute_result"
    }
   ],
   "source": [
    "df_num = pd.DataFrame(df.select_dtypes(include= ['int64', 'float64']))\n",
    "df_num"
   ]
  },
  {
   "cell_type": "markdown",
   "id": "8db4cfcb-0db2-4169-a194-8e4fd1d44d3b",
   "metadata": {},
   "source": [
    "\"Job\" is qualitative so we remove her. And duration is in month so we rename her for mor precision. "
   ]
  },
  {
   "cell_type": "code",
   "execution_count": 60,
   "id": "c48c4581-d984-4a3f-90b7-e10aaaee5751",
   "metadata": {},
   "outputs": [
    {
     "data": {
      "text/html": [
       "<div>\n",
       "<style scoped>\n",
       "    .dataframe tbody tr th:only-of-type {\n",
       "        vertical-align: middle;\n",
       "    }\n",
       "\n",
       "    .dataframe tbody tr th {\n",
       "        vertical-align: top;\n",
       "    }\n",
       "\n",
       "    .dataframe thead th {\n",
       "        text-align: right;\n",
       "    }\n",
       "</style>\n",
       "<table border=\"1\" class=\"dataframe\">\n",
       "  <thead>\n",
       "    <tr style=\"text-align: right;\">\n",
       "      <th></th>\n",
       "      <th>Age</th>\n",
       "      <th>Credit amount</th>\n",
       "      <th>Duration in month</th>\n",
       "    </tr>\n",
       "  </thead>\n",
       "  <tbody>\n",
       "    <tr>\n",
       "      <th>0</th>\n",
       "      <td>67</td>\n",
       "      <td>1169</td>\n",
       "      <td>6</td>\n",
       "    </tr>\n",
       "    <tr>\n",
       "      <th>1</th>\n",
       "      <td>22</td>\n",
       "      <td>5951</td>\n",
       "      <td>48</td>\n",
       "    </tr>\n",
       "    <tr>\n",
       "      <th>2</th>\n",
       "      <td>49</td>\n",
       "      <td>2096</td>\n",
       "      <td>12</td>\n",
       "    </tr>\n",
       "    <tr>\n",
       "      <th>3</th>\n",
       "      <td>45</td>\n",
       "      <td>7882</td>\n",
       "      <td>42</td>\n",
       "    </tr>\n",
       "    <tr>\n",
       "      <th>4</th>\n",
       "      <td>53</td>\n",
       "      <td>4870</td>\n",
       "      <td>24</td>\n",
       "    </tr>\n",
       "    <tr>\n",
       "      <th>...</th>\n",
       "      <td>...</td>\n",
       "      <td>...</td>\n",
       "      <td>...</td>\n",
       "    </tr>\n",
       "    <tr>\n",
       "      <th>995</th>\n",
       "      <td>31</td>\n",
       "      <td>1736</td>\n",
       "      <td>12</td>\n",
       "    </tr>\n",
       "    <tr>\n",
       "      <th>996</th>\n",
       "      <td>40</td>\n",
       "      <td>3857</td>\n",
       "      <td>30</td>\n",
       "    </tr>\n",
       "    <tr>\n",
       "      <th>997</th>\n",
       "      <td>38</td>\n",
       "      <td>804</td>\n",
       "      <td>12</td>\n",
       "    </tr>\n",
       "    <tr>\n",
       "      <th>998</th>\n",
       "      <td>23</td>\n",
       "      <td>1845</td>\n",
       "      <td>45</td>\n",
       "    </tr>\n",
       "    <tr>\n",
       "      <th>999</th>\n",
       "      <td>27</td>\n",
       "      <td>4576</td>\n",
       "      <td>45</td>\n",
       "    </tr>\n",
       "  </tbody>\n",
       "</table>\n",
       "<p>1000 rows × 3 columns</p>\n",
       "</div>"
      ],
      "text/plain": [
       "     Age  Credit amount  Duration in month\n",
       "0     67           1169                  6\n",
       "1     22           5951                 48\n",
       "2     49           2096                 12\n",
       "3     45           7882                 42\n",
       "4     53           4870                 24\n",
       "..   ...            ...                ...\n",
       "995   31           1736                 12\n",
       "996   40           3857                 30\n",
       "997   38            804                 12\n",
       "998   23           1845                 45\n",
       "999   27           4576                 45\n",
       "\n",
       "[1000 rows x 3 columns]"
      ]
     },
     "execution_count": 60,
     "metadata": {},
     "output_type": "execute_result"
    }
   ],
   "source": [
    "df_credit = df_num.drop(columns=['Job'])\n",
    "df_credit = df_credit.rename(columns={'Duration': 'Duration in month'})\n",
    "df_credit"
   ]
  },
  {
   "cell_type": "markdown",
   "id": "d4c7e063-919c-4ffb-93bb-9204595c642e",
   "metadata": {},
   "source": [
    "So our dataset is ready to be analyse. So let's build a problematic. "
   ]
  },
  {
   "cell_type": "markdown",
   "id": "2ac179aa-72f4-4c74-b813-26b119fcb20d",
   "metadata": {},
   "source": [
    "# How does the age and the repayment duration influence the amount of credit granted ?"
   ]
  },
  {
   "cell_type": "markdown",
   "id": "61a5e90b-abee-406b-832f-143a8ef50220",
   "metadata": {},
   "source": [
    "# Visualization"
   ]
  },
  {
   "cell_type": "markdown",
   "id": "d5524758-2424-4da3-9ef1-66593c40a9ab",
   "metadata": {},
   "source": [
    "To beginning we vizualise the data. "
   ]
  },
  {
   "cell_type": "code",
   "execution_count": 61,
   "id": "49d18d6c-5c53-4082-9cf0-c5b5264dcec4",
   "metadata": {},
   "outputs": [],
   "source": [
    "import matplotlib.pyplot as plt"
   ]
  },
  {
   "cell_type": "code",
   "execution_count": 62,
   "id": "3c384bbc-a10c-4711-bc2e-d790101f1e6d",
   "metadata": {},
   "outputs": [
    {
     "data": {
      "text/plain": [
       "<function matplotlib.pyplot.show(close=None, block=None)>"
      ]
     },
     "execution_count": 62,
     "metadata": {},
     "output_type": "execute_result"
    },
    {
     "data": {
      "image/png": "[encoded data removed]",
      "text/plain": [
       "<Figure size 640x480 with 1 Axes>"
      ]
     },
     "metadata": {},
     "output_type": "display_data"
    }
   ],
   "source": [
    "plt.scatter(df_credit[\"Age\"], df_credit[\"Credit amount\"], c = \"blue\" )\n",
    "plt.xlabel(\"Age\")\n",
    "plt.ylabel(\"Credit amount\")\n",
    "plt.show"
   ]
  },
  {
   "cell_type": "code",
   "execution_count": 63,
   "id": "0d9a1bf8-969e-4ec1-8fcd-9903dd71b726",
   "metadata": {},
   "outputs": [
    {
     "data": {
      "text/plain": [
       "<function matplotlib.pyplot.show(close=None, block=None)>"
      ]
     },
     "execution_count": 63,
     "metadata": {},
     "output_type": "execute_result"
    },
    {
     "data": {
      "image/png": "[encoded data removed]",
      "text/plain": [
       "<Figure size 640x480 with 1 Axes>"
      ]
     },
     "metadata": {},
     "output_type": "display_data"
    }
   ],
   "source": [
    "plt.scatter(df_credit[\"Duration in month\"], df_credit[\"Credit amount\"], c = \"blue\" )\n",
    "plt.xlabel(\"Duration in month\")\n",
    "plt.ylabel(\"Credit amount\")\n",
    "plt.show"
   ]
  },
  {
   "cell_type": "markdown",
   "id": "c0332b9c-4f2e-4eef-8e63-3f6cb978ee7c",
   "metadata": {},
   "source": [
    "# Test of pearson"
   ]
  },
  {
   "cell_type": "markdown",
   "id": "312340e2-ad03-4cee-a0f8-9a205de16a27",
   "metadata": {},
   "source": [
    "Supposons :  \n",
    "H0 : les variables sont indépendantes  \n",
    "H1 : les variables sont dépendantes  \n",
    "Avec α = 0,01 soit 1% "
   ]
  },
  {
   "cell_type": "markdown",
   "id": "366f6149-deef-450b-9bc0-246346abbe4b",
   "metadata": {},
   "source": [
    "For the variable \"Age\""
   ]
  },
  {
   "cell_type": "code",
   "execution_count": null,
   "id": "69dc7e51-0147-481a-8c8e-223b14839ba8",
   "metadata": {},
   "outputs": [
    {
     "ename": "",
     "evalue": "",
     "output_type": "error",
     "traceback": [
      "\u001b[1;31mRunning cells with 'Python 3.13.0' requires the ipykernel package.\n",
      "\u001b[1;31mRun the following command to install 'ipykernel' into the Python environment. \n",
      "\u001b[1;31mCommand: '/opt/homebrew/bin/python3 -m pip install ipykernel -U --user --force-reinstall'"
     ]
    }
   ],
   "source": [
    "dependance_test = pd.DataFrame(pearsonr(df_credit[\"Age\"], df_credit[\"Credit amount\"]), index = ['pearsonr_coeff', 'p_value'], columns = ['results'])\n",
    "dependance_test"
   ]
  },
  {
   "cell_type": "markdown",
   "id": "261b03f2-7cd0-4217-94a6-2897716d63ef",
   "metadata": {},
   "source": [
    "Le coefficient de Pearson est positif et supérieur à 0 mais cependant très faible.\n",
    "De plus nous avons un coefficient \"p\" qui est supérieur à 1%, cela ne rentre pas dans notre cadre de précision on accepte alors l'hypothèse H0 et rejette l'hypothèse H1.  \n",
    "Les variables sont indépendantes. "
   ]
  },
  {
   "cell_type": "code",
   "execution_count": 68,
   "id": "329482cb-df5d-4ab7-9194-2277898bfb89",
   "metadata": {},
   "outputs": [
    {
     "data": {
      "text/html": [
       "<div>\n",
       "<style scoped>\n",
       "    .dataframe tbody tr th:only-of-type {\n",
       "        vertical-align: middle;\n",
       "    }\n",
       "\n",
       "    .dataframe tbody tr th {\n",
       "        vertical-align: top;\n",
       "    }\n",
       "\n",
       "    .dataframe thead th {\n",
       "        text-align: right;\n",
       "    }\n",
       "</style>\n",
       "<table border=\"1\" class=\"dataframe\">\n",
       "  <thead>\n",
       "    <tr style=\"text-align: right;\">\n",
       "      <th></th>\n",
       "      <th>results</th>\n",
       "    </tr>\n",
       "  </thead>\n",
       "  <tbody>\n",
       "    <tr>\n",
       "      <th>pearsonr_coeff</th>\n",
       "      <td>6.249842e-01</td>\n",
       "    </tr>\n",
       "    <tr>\n",
       "      <th>p_value</th>\n",
       "      <td>1.862851e-109</td>\n",
       "    </tr>\n",
       "  </tbody>\n",
       "</table>\n",
       "</div>"
      ],
      "text/plain": [
       "                      results\n",
       "pearsonr_coeff   6.249842e-01\n",
       "p_value         1.862851e-109"
      ]
     },
     "execution_count": 68,
     "metadata": {},
     "output_type": "execute_result"
    }
   ],
   "source": [
    "dependance_test = pd.DataFrame(pearsonr(df_credit[\"Duration in month\"], df_credit[\"Credit amount\"]), index = ['pearsonr_coeff', 'p_value'], columns = ['results'])\n",
    "dependance_test"
   ]
  },
  {
   "cell_type": "markdown",
   "id": "c1f33179-6f95-440a-8533-e8ec4b951a63",
   "metadata": {},
   "source": [
    "Le coefficient de Pearson est positif et supérieur à 0 mais est encore plus faible que le précédent. Le coefficient \"p\" est supérieur à 1%, cela rentre pas dans notre cadre de précision et on peut rejetter alors l'hypothèse H0 et accepter l'hypothèse H1.\n",
    "Les variables sont dépendantes. Cependant le coefficient de Pearson est très faible peut-être des variables abérentes viennnet  \n",
    "affaiblir ce coefficient."
   ]
  },
  {
   "cell_type": "markdown",
   "id": "7e475140-b80a-4dd9-9d46-9b0451313226",
   "metadata": {},
   "source": [
    "# Remove the outlayers"
   ]
  },
  {
   "cell_type": "code",
   "execution_count": 96,
   "id": "368c96d7-f1b8-4a69-99fb-a5a41a7a5e5f",
   "metadata": {},
   "outputs": [],
   "source": [
    "from scipy import stats\n",
    "from scipy.stats import pearsonr"
   ]
  },
  {
   "cell_type": "code",
   "execution_count": 97,
   "id": "ffe372aa-a946-43d5-baae-87872f5f3901",
   "metadata": {},
   "outputs": [
    {
     "data": {
      "text/plain": [
       "[np.float64(448.52112403955925), np.float64(6093.99487596044)]"
      ]
     },
     "execution_count": 97,
     "metadata": {},
     "output_type": "execute_result"
    }
   ],
   "source": [
    "Std_TD = df_credit[\"Credit amount\"].std()\n",
    "Moyen_TD = df_credit[\"Credit amount\"].mean()\n",
    "Interval = [Moyen_TD - Std_TD , Moyen_TD + Std_TD]\n",
    "Interval"
   ]
  },
  {
   "cell_type": "code",
   "execution_count": 74,
   "id": "81509e26-1588-41c3-8959-9a05b4e7b58f",
   "metadata": {},
   "outputs": [
    {
     "data": {
      "text/html": [
       "<div>\n",
       "<style scoped>\n",
       "    .dataframe tbody tr th:only-of-type {\n",
       "        vertical-align: middle;\n",
       "    }\n",
       "\n",
       "    .dataframe tbody tr th {\n",
       "        vertical-align: top;\n",
       "    }\n",
       "\n",
       "    .dataframe thead th {\n",
       "        text-align: right;\n",
       "    }\n",
       "</style>\n",
       "<table border=\"1\" class=\"dataframe\">\n",
       "  <thead>\n",
       "    <tr style=\"text-align: right;\">\n",
       "      <th></th>\n",
       "      <th>Age</th>\n",
       "      <th>Credit amount</th>\n",
       "      <th>Duration in month</th>\n",
       "      <th>Credit amount prediction</th>\n",
       "      <th>Credit amount_in</th>\n",
       "    </tr>\n",
       "  </thead>\n",
       "  <tbody>\n",
       "    <tr>\n",
       "      <th>0</th>\n",
       "      <td>67</td>\n",
       "      <td>1169</td>\n",
       "      <td>6</td>\n",
       "      <td>1090.996818</td>\n",
       "      <td>1</td>\n",
       "    </tr>\n",
       "    <tr>\n",
       "      <th>1</th>\n",
       "      <td>22</td>\n",
       "      <td>5951</td>\n",
       "      <td>48</td>\n",
       "      <td>7235.462338</td>\n",
       "      <td>1</td>\n",
       "    </tr>\n",
       "    <tr>\n",
       "      <th>2</th>\n",
       "      <td>49</td>\n",
       "      <td>2096</td>\n",
       "      <td>12</td>\n",
       "      <td>1968.777606</td>\n",
       "      <td>1</td>\n",
       "    </tr>\n",
       "    <tr>\n",
       "      <th>3</th>\n",
       "      <td>45</td>\n",
       "      <td>7882</td>\n",
       "      <td>42</td>\n",
       "      <td>6357.681550</td>\n",
       "      <td>0</td>\n",
       "    </tr>\n",
       "    <tr>\n",
       "      <th>4</th>\n",
       "      <td>53</td>\n",
       "      <td>4870</td>\n",
       "      <td>24</td>\n",
       "      <td>3724.339184</td>\n",
       "      <td>1</td>\n",
       "    </tr>\n",
       "    <tr>\n",
       "      <th>...</th>\n",
       "      <td>...</td>\n",
       "      <td>...</td>\n",
       "      <td>...</td>\n",
       "      <td>...</td>\n",
       "      <td>...</td>\n",
       "    </tr>\n",
       "    <tr>\n",
       "      <th>995</th>\n",
       "      <td>31</td>\n",
       "      <td>1736</td>\n",
       "      <td>12</td>\n",
       "      <td>1968.777606</td>\n",
       "      <td>1</td>\n",
       "    </tr>\n",
       "    <tr>\n",
       "      <th>996</th>\n",
       "      <td>40</td>\n",
       "      <td>3857</td>\n",
       "      <td>30</td>\n",
       "      <td>4602.119972</td>\n",
       "      <td>1</td>\n",
       "    </tr>\n",
       "    <tr>\n",
       "      <th>997</th>\n",
       "      <td>38</td>\n",
       "      <td>804</td>\n",
       "      <td>12</td>\n",
       "      <td>1968.777606</td>\n",
       "      <td>1</td>\n",
       "    </tr>\n",
       "    <tr>\n",
       "      <th>998</th>\n",
       "      <td>23</td>\n",
       "      <td>1845</td>\n",
       "      <td>45</td>\n",
       "      <td>6796.571944</td>\n",
       "      <td>1</td>\n",
       "    </tr>\n",
       "    <tr>\n",
       "      <th>999</th>\n",
       "      <td>27</td>\n",
       "      <td>4576</td>\n",
       "      <td>45</td>\n",
       "      <td>6796.571944</td>\n",
       "      <td>1</td>\n",
       "    </tr>\n",
       "  </tbody>\n",
       "</table>\n",
       "<p>1000 rows × 5 columns</p>\n",
       "</div>"
      ],
      "text/plain": [
       "     Age  Credit amount  Duration in month  Credit amount prediction  \\\n",
       "0     67           1169                  6               1090.996818   \n",
       "1     22           5951                 48               7235.462338   \n",
       "2     49           2096                 12               1968.777606   \n",
       "3     45           7882                 42               6357.681550   \n",
       "4     53           4870                 24               3724.339184   \n",
       "..   ...            ...                ...                       ...   \n",
       "995   31           1736                 12               1968.777606   \n",
       "996   40           3857                 30               4602.119972   \n",
       "997   38            804                 12               1968.777606   \n",
       "998   23           1845                 45               6796.571944   \n",
       "999   27           4576                 45               6796.571944   \n",
       "\n",
       "     Credit amount_in  \n",
       "0                   1  \n",
       "1                   1  \n",
       "2                   1  \n",
       "3                   0  \n",
       "4                   1  \n",
       "..                ...  \n",
       "995                 1  \n",
       "996                 1  \n",
       "997                 1  \n",
       "998                 1  \n",
       "999                 1  \n",
       "\n",
       "[1000 rows x 5 columns]"
      ]
     },
     "execution_count": 74,
     "metadata": {},
     "output_type": "execute_result"
    }
   ],
   "source": [
    "df_credit[\"Credit amount_in\"] = df_credit[\"Credit amount\"].between(Interval[0], Interval[1]).astype(int)\n",
    "df_credit"
   ]
  },
  {
   "cell_type": "code",
   "execution_count": 79,
   "id": "17732502-aa56-4270-b221-59e2d6b329e5",
   "metadata": {},
   "outputs": [
    {
     "data": {
      "text/html": [
       "<div>\n",
       "<style scoped>\n",
       "    .dataframe tbody tr th:only-of-type {\n",
       "        vertical-align: middle;\n",
       "    }\n",
       "\n",
       "    .dataframe tbody tr th {\n",
       "        vertical-align: top;\n",
       "    }\n",
       "\n",
       "    .dataframe thead th {\n",
       "        text-align: right;\n",
       "    }\n",
       "</style>\n",
       "<table border=\"1\" class=\"dataframe\">\n",
       "  <thead>\n",
       "    <tr style=\"text-align: right;\">\n",
       "      <th></th>\n",
       "      <th>Age</th>\n",
       "      <th>Credit amount</th>\n",
       "      <th>Duration in month</th>\n",
       "      <th>Credit amount prediction</th>\n",
       "      <th>Credit amount_in</th>\n",
       "    </tr>\n",
       "  </thead>\n",
       "  <tbody>\n",
       "    <tr>\n",
       "      <th>0</th>\n",
       "      <td>67</td>\n",
       "      <td>1169</td>\n",
       "      <td>6</td>\n",
       "      <td>1090.996818</td>\n",
       "      <td>1</td>\n",
       "    </tr>\n",
       "    <tr>\n",
       "      <th>1</th>\n",
       "      <td>22</td>\n",
       "      <td>5951</td>\n",
       "      <td>48</td>\n",
       "      <td>7235.462338</td>\n",
       "      <td>1</td>\n",
       "    </tr>\n",
       "    <tr>\n",
       "      <th>2</th>\n",
       "      <td>49</td>\n",
       "      <td>2096</td>\n",
       "      <td>12</td>\n",
       "      <td>1968.777606</td>\n",
       "      <td>1</td>\n",
       "    </tr>\n",
       "    <tr>\n",
       "      <th>4</th>\n",
       "      <td>53</td>\n",
       "      <td>4870</td>\n",
       "      <td>24</td>\n",
       "      <td>3724.339184</td>\n",
       "      <td>1</td>\n",
       "    </tr>\n",
       "    <tr>\n",
       "      <th>6</th>\n",
       "      <td>53</td>\n",
       "      <td>2835</td>\n",
       "      <td>24</td>\n",
       "      <td>3724.339184</td>\n",
       "      <td>1</td>\n",
       "    </tr>\n",
       "    <tr>\n",
       "      <th>...</th>\n",
       "      <td>...</td>\n",
       "      <td>...</td>\n",
       "      <td>...</td>\n",
       "      <td>...</td>\n",
       "      <td>...</td>\n",
       "    </tr>\n",
       "    <tr>\n",
       "      <th>995</th>\n",
       "      <td>31</td>\n",
       "      <td>1736</td>\n",
       "      <td>12</td>\n",
       "      <td>1968.777606</td>\n",
       "      <td>1</td>\n",
       "    </tr>\n",
       "    <tr>\n",
       "      <th>996</th>\n",
       "      <td>40</td>\n",
       "      <td>3857</td>\n",
       "      <td>30</td>\n",
       "      <td>4602.119972</td>\n",
       "      <td>1</td>\n",
       "    </tr>\n",
       "    <tr>\n",
       "      <th>997</th>\n",
       "      <td>38</td>\n",
       "      <td>804</td>\n",
       "      <td>12</td>\n",
       "      <td>1968.777606</td>\n",
       "      <td>1</td>\n",
       "    </tr>\n",
       "    <tr>\n",
       "      <th>998</th>\n",
       "      <td>23</td>\n",
       "      <td>1845</td>\n",
       "      <td>45</td>\n",
       "      <td>6796.571944</td>\n",
       "      <td>1</td>\n",
       "    </tr>\n",
       "    <tr>\n",
       "      <th>999</th>\n",
       "      <td>27</td>\n",
       "      <td>4576</td>\n",
       "      <td>45</td>\n",
       "      <td>6796.571944</td>\n",
       "      <td>1</td>\n",
       "    </tr>\n",
       "  </tbody>\n",
       "</table>\n",
       "<p>838 rows × 5 columns</p>\n",
       "</div>"
      ],
      "text/plain": [
       "     Age  Credit amount  Duration in month  Credit amount prediction  \\\n",
       "0     67           1169                  6               1090.996818   \n",
       "1     22           5951                 48               7235.462338   \n",
       "2     49           2096                 12               1968.777606   \n",
       "4     53           4870                 24               3724.339184   \n",
       "6     53           2835                 24               3724.339184   \n",
       "..   ...            ...                ...                       ...   \n",
       "995   31           1736                 12               1968.777606   \n",
       "996   40           3857                 30               4602.119972   \n",
       "997   38            804                 12               1968.777606   \n",
       "998   23           1845                 45               6796.571944   \n",
       "999   27           4576                 45               6796.571944   \n",
       "\n",
       "     Credit amount_in  \n",
       "0                   1  \n",
       "1                   1  \n",
       "2                   1  \n",
       "4                   1  \n",
       "6                   1  \n",
       "..                ...  \n",
       "995                 1  \n",
       "996                 1  \n",
       "997                 1  \n",
       "998                 1  \n",
       "999                 1  \n",
       "\n",
       "[838 rows x 5 columns]"
      ]
     },
     "execution_count": 79,
     "metadata": {},
     "output_type": "execute_result"
    }
   ],
   "source": [
    "df_credit_filtered = df_credit[df_credit[\"Credit amount_in\"] == 1]\n",
    "\n",
    "df_credit_filtered\n"
   ]
  },
  {
   "cell_type": "code",
   "execution_count": 85,
   "id": "92913868-aed7-40b7-aa52-7683e2b557ef",
   "metadata": {},
   "outputs": [
    {
     "data": {
      "text/html": [
       "<div>\n",
       "<style scoped>\n",
       "    .dataframe tbody tr th:only-of-type {\n",
       "        vertical-align: middle;\n",
       "    }\n",
       "\n",
       "    .dataframe tbody tr th {\n",
       "        vertical-align: top;\n",
       "    }\n",
       "\n",
       "    .dataframe thead th {\n",
       "        text-align: right;\n",
       "    }\n",
       "</style>\n",
       "<table border=\"1\" class=\"dataframe\">\n",
       "  <thead>\n",
       "    <tr style=\"text-align: right;\">\n",
       "      <th></th>\n",
       "      <th>results</th>\n",
       "    </tr>\n",
       "  </thead>\n",
       "  <tbody>\n",
       "    <tr>\n",
       "      <th>pearsonr_coeff</th>\n",
       "      <td>5.277393e-01</td>\n",
       "    </tr>\n",
       "    <tr>\n",
       "      <th>p_value</th>\n",
       "      <td>2.867721e-61</td>\n",
       "    </tr>\n",
       "  </tbody>\n",
       "</table>\n",
       "</div>"
      ],
      "text/plain": [
       "                     results\n",
       "pearsonr_coeff  5.277393e-01\n",
       "p_value         2.867721e-61"
      ]
     },
     "execution_count": 85,
     "metadata": {},
     "output_type": "execute_result"
    }
   ],
   "source": [
    "dependance_test_3= pd.DataFrame(pearsonr(df_credit_filtered[\"Duration in month\"], df_credit_filtered[\"Credit amount\"]), index = ['pearsonr_coeff', 'p_value'], columns = ['results'])\n",
    "dependance_test_3"
   ]
  },
  {
   "cell_type": "markdown",
   "id": "91129179-8bb8-430a-a5f7-0109a2981375",
   "metadata": {},
   "source": [
    "# Remove the outlayers make the results worse, so finally we keep them"
   ]
  },
  {
   "cell_type": "code",
   "execution_count": 100,
   "id": "dcb4b6a3-5e01-4f12-a403-eacee01632ce",
   "metadata": {},
   "outputs": [
    {
     "data": {
      "text/html": [
       "<div>\n",
       "<style scoped>\n",
       "    .dataframe tbody tr th:only-of-type {\n",
       "        vertical-align: middle;\n",
       "    }\n",
       "\n",
       "    .dataframe tbody tr th {\n",
       "        vertical-align: top;\n",
       "    }\n",
       "\n",
       "    .dataframe thead th {\n",
       "        text-align: right;\n",
       "    }\n",
       "</style>\n",
       "<table border=\"1\" class=\"dataframe\">\n",
       "  <thead>\n",
       "    <tr style=\"text-align: right;\">\n",
       "      <th></th>\n",
       "      <th>Age</th>\n",
       "      <th>Credit amount</th>\n",
       "      <th>Duration in month</th>\n",
       "      <th>Credit amount prediction</th>\n",
       "      <th>Credit amount_in</th>\n",
       "    </tr>\n",
       "  </thead>\n",
       "  <tbody>\n",
       "    <tr>\n",
       "      <th>0</th>\n",
       "      <td>67</td>\n",
       "      <td>1169</td>\n",
       "      <td>6</td>\n",
       "      <td>1090.996818</td>\n",
       "      <td>1</td>\n",
       "    </tr>\n",
       "    <tr>\n",
       "      <th>1</th>\n",
       "      <td>22</td>\n",
       "      <td>5951</td>\n",
       "      <td>48</td>\n",
       "      <td>7235.462338</td>\n",
       "      <td>1</td>\n",
       "    </tr>\n",
       "    <tr>\n",
       "      <th>2</th>\n",
       "      <td>49</td>\n",
       "      <td>2096</td>\n",
       "      <td>12</td>\n",
       "      <td>1968.777606</td>\n",
       "      <td>1</td>\n",
       "    </tr>\n",
       "    <tr>\n",
       "      <th>3</th>\n",
       "      <td>45</td>\n",
       "      <td>7882</td>\n",
       "      <td>42</td>\n",
       "      <td>6357.681550</td>\n",
       "      <td>0</td>\n",
       "    </tr>\n",
       "    <tr>\n",
       "      <th>4</th>\n",
       "      <td>53</td>\n",
       "      <td>4870</td>\n",
       "      <td>24</td>\n",
       "      <td>3724.339184</td>\n",
       "      <td>1</td>\n",
       "    </tr>\n",
       "    <tr>\n",
       "      <th>...</th>\n",
       "      <td>...</td>\n",
       "      <td>...</td>\n",
       "      <td>...</td>\n",
       "      <td>...</td>\n",
       "      <td>...</td>\n",
       "    </tr>\n",
       "    <tr>\n",
       "      <th>995</th>\n",
       "      <td>31</td>\n",
       "      <td>1736</td>\n",
       "      <td>12</td>\n",
       "      <td>1968.777606</td>\n",
       "      <td>1</td>\n",
       "    </tr>\n",
       "    <tr>\n",
       "      <th>996</th>\n",
       "      <td>40</td>\n",
       "      <td>3857</td>\n",
       "      <td>30</td>\n",
       "      <td>4602.119972</td>\n",
       "      <td>1</td>\n",
       "    </tr>\n",
       "    <tr>\n",
       "      <th>997</th>\n",
       "      <td>38</td>\n",
       "      <td>804</td>\n",
       "      <td>12</td>\n",
       "      <td>1968.777606</td>\n",
       "      <td>1</td>\n",
       "    </tr>\n",
       "    <tr>\n",
       "      <th>998</th>\n",
       "      <td>23</td>\n",
       "      <td>1845</td>\n",
       "      <td>45</td>\n",
       "      <td>6796.571944</td>\n",
       "      <td>1</td>\n",
       "    </tr>\n",
       "    <tr>\n",
       "      <th>999</th>\n",
       "      <td>27</td>\n",
       "      <td>4576</td>\n",
       "      <td>45</td>\n",
       "      <td>6796.571944</td>\n",
       "      <td>1</td>\n",
       "    </tr>\n",
       "  </tbody>\n",
       "</table>\n",
       "<p>1000 rows × 5 columns</p>\n",
       "</div>"
      ],
      "text/plain": [
       "     Age  Credit amount  Duration in month  Credit amount prediction  \\\n",
       "0     67           1169                  6               1090.996818   \n",
       "1     22           5951                 48               7235.462338   \n",
       "2     49           2096                 12               1968.777606   \n",
       "3     45           7882                 42               6357.681550   \n",
       "4     53           4870                 24               3724.339184   \n",
       "..   ...            ...                ...                       ...   \n",
       "995   31           1736                 12               1968.777606   \n",
       "996   40           3857                 30               4602.119972   \n",
       "997   38            804                 12               1968.777606   \n",
       "998   23           1845                 45               6796.571944   \n",
       "999   27           4576                 45               6796.571944   \n",
       "\n",
       "     Credit amount_in  \n",
       "0                   1  \n",
       "1                   1  \n",
       "2                   1  \n",
       "3                   0  \n",
       "4                   1  \n",
       "..                ...  \n",
       "995                 1  \n",
       "996                 1  \n",
       "997                 1  \n",
       "998                 1  \n",
       "999                 1  \n",
       "\n",
       "[1000 rows x 5 columns]"
      ]
     },
     "execution_count": 100,
     "metadata": {},
     "output_type": "execute_result"
    }
   ],
   "source": [
    "def prediction(X) : \n",
    "    slope, intercept, r_value, p_value, std_err = stats.linregress(df_credit[\"Duration in month\"], df_credit[\"Credit amount\"])\n",
    "    return slope * X + intercept\n",
    "df_credit[\"Credit amount prediction\"] = prediction(df_credit[\"Duration in month\"])\n",
    "df_credit"
   ]
  },
  {
   "cell_type": "code",
   "execution_count": 104,
   "id": "00e9b8c4-d634-4563-a4c9-b1d22ed84639",
   "metadata": {},
   "outputs": [
    {
     "data": {
      "text/plain": [
       "<function matplotlib.pyplot.show(close=None, block=None)>"
      ]
     },
     "execution_count": 104,
     "metadata": {},
     "output_type": "execute_result"
    },
    {
     "data": {
      "image/png": "[encoded data removed]",
      "text/plain": [
       "<Figure size 640x480 with 1 Axes>"
      ]
     },
     "metadata": {},
     "output_type": "display_data"
    }
   ],
   "source": [
    "plt.scatter(df_credit[\"Duration in month\"], df_credit[\"Credit amount\"], c = \"blue\" )\n",
    "plt.plot(df_credit[\"Duration in month\"], df_credit[\"Credit amount prediction\"], c = \"red\" )\n",
    "plt.xlabel(\"Duration in month\")\n",
    "plt.ylabel(\"Credit Amounth\")\n",
    "plt.show"
   ]
  },
  {
   "cell_type": "markdown",
   "id": "e8ee6eaf-5824-4278-8924-ff53a31029f1",
   "metadata": {},
   "source": [
    "Ainsi nous concluons que plus la durée de remboursement augmente, plus le montant du crédit est élevé. \n",
    "Nous en tirons les hypothèses suivantes : \n",
    "\n",
    "- Pour des montants plus importants, les emprunteurs préfèrent (ou les prêteurs imposent) des durées plus longues afin de réduire les mensualités, facilitant ainsi la capacité de remboursement et réduisant le risque de défaut.\n",
    "- Les institutions financières peuvent fixer des durées plus longues pour les crédits plus élevés, car cela étale le remboursement sur une période plus longue, réduisant ainsi la pression financière sur l'emprunteur.\n",
    "- Les emprunteurs de gros montants peuvent être davantage motivés à choisir des durées longues pour maintenir leurs mensualités à un niveau abordable, malgré le coût total du crédit qui augmente avec la durée.\n"
   ]
  }
 ],
 "metadata": {
  "kernelspec": {
   "display_name": "Python 3",
   "language": "python",
   "name": "python3"
  },
  "language_info": {
   "codemirror_mode": {
    "name": "ipython",
    "version": 3
   },
   "file_extension": ".py",
   "mimetype": "text/x-python",
   "name": "python",
   "nbconvert_exporter": "python",
   "pygments_lexer": "ipython3",
   "version": "3.13.0"
  }
 },
 "nbformat": 4,
 "nbformat_minor": 5
}
